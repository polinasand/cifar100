{
  "nbformat": 4,
  "nbformat_minor": 0,
  "metadata": {
    "colab": {
      "name": "CIFAR100",
      "provenance": [],
      "collapsed_sections": []
    },
    "kernelspec": {
      "name": "python3",
      "display_name": "Python 3"
    },
    "language_info": {
      "name": "python"
    },
    "accelerator": "GPU",
    "widgets": {
      "application/vnd.jupyter.widget-state+json": {
        "d0a4511fde95465196102d0d866297c0": {
          "model_module": "@jupyter-widgets/controls",
          "model_name": "HBoxModel",
          "model_module_version": "1.5.0",
          "state": {
            "_view_name": "HBoxView",
            "_dom_classes": [],
            "_model_name": "HBoxModel",
            "_view_module": "@jupyter-widgets/controls",
            "_model_module_version": "1.5.0",
            "_view_count": null,
            "_view_module_version": "1.5.0",
            "box_style": "",
            "layout": "IPY_MODEL_ab9630fdaef34f0286455d6f28086264",
            "_model_module": "@jupyter-widgets/controls",
            "children": [
              "IPY_MODEL_db74c7884483414bb3da9a65a5246b0f",
              "IPY_MODEL_7f5b53f02db04974a6ef745b0485d769",
              "IPY_MODEL_c60a0a0c998c42e38fa60b8f9da33381"
            ]
          }
        },
        "ab9630fdaef34f0286455d6f28086264": {
          "model_module": "@jupyter-widgets/base",
          "model_name": "LayoutModel",
          "model_module_version": "1.2.0",
          "state": {
            "_view_name": "LayoutView",
            "grid_template_rows": null,
            "right": null,
            "justify_content": null,
            "_view_module": "@jupyter-widgets/base",
            "overflow": null,
            "_model_module_version": "1.2.0",
            "_view_count": null,
            "flex_flow": null,
            "width": null,
            "min_width": null,
            "border": null,
            "align_items": null,
            "bottom": null,
            "_model_module": "@jupyter-widgets/base",
            "top": null,
            "grid_column": null,
            "overflow_y": null,
            "overflow_x": null,
            "grid_auto_flow": null,
            "grid_area": null,
            "grid_template_columns": null,
            "flex": null,
            "_model_name": "LayoutModel",
            "justify_items": null,
            "grid_row": null,
            "max_height": null,
            "align_content": null,
            "visibility": null,
            "align_self": null,
            "height": null,
            "min_height": null,
            "padding": null,
            "grid_auto_rows": null,
            "grid_gap": null,
            "max_width": null,
            "order": null,
            "_view_module_version": "1.2.0",
            "grid_template_areas": null,
            "object_position": null,
            "object_fit": null,
            "grid_auto_columns": null,
            "margin": null,
            "display": null,
            "left": null
          }
        },
        "db74c7884483414bb3da9a65a5246b0f": {
          "model_module": "@jupyter-widgets/controls",
          "model_name": "HTMLModel",
          "model_module_version": "1.5.0",
          "state": {
            "_view_name": "HTMLView",
            "style": "IPY_MODEL_7f4ff2746c044657bfa03ebc32639257",
            "_dom_classes": [],
            "description": "",
            "_model_name": "HTMLModel",
            "placeholder": "​",
            "_view_module": "@jupyter-widgets/controls",
            "_model_module_version": "1.5.0",
            "value": "100%",
            "_view_count": null,
            "_view_module_version": "1.5.0",
            "description_tooltip": null,
            "_model_module": "@jupyter-widgets/controls",
            "layout": "IPY_MODEL_9948c3cfeafa444aafdba1cfff850696"
          }
        },
        "7f5b53f02db04974a6ef745b0485d769": {
          "model_module": "@jupyter-widgets/controls",
          "model_name": "FloatProgressModel",
          "model_module_version": "1.5.0",
          "state": {
            "_view_name": "ProgressView",
            "style": "IPY_MODEL_26a7f53bea7846e88073269fbdd4bbad",
            "_dom_classes": [],
            "description": "",
            "_model_name": "FloatProgressModel",
            "bar_style": "success",
            "max": 21388428,
            "_view_module": "@jupyter-widgets/controls",
            "_model_module_version": "1.5.0",
            "value": 21388428,
            "_view_count": null,
            "_view_module_version": "1.5.0",
            "orientation": "horizontal",
            "min": 0,
            "description_tooltip": null,
            "_model_module": "@jupyter-widgets/controls",
            "layout": "IPY_MODEL_1866fc10e9254803ba32af391fe1d986"
          }
        },
        "c60a0a0c998c42e38fa60b8f9da33381": {
          "model_module": "@jupyter-widgets/controls",
          "model_name": "HTMLModel",
          "model_module_version": "1.5.0",
          "state": {
            "_view_name": "HTMLView",
            "style": "IPY_MODEL_37f7562e8fdd4cc08d158660c8f1bc12",
            "_dom_classes": [],
            "description": "",
            "_model_name": "HTMLModel",
            "placeholder": "​",
            "_view_module": "@jupyter-widgets/controls",
            "_model_module_version": "1.5.0",
            "value": " 20.4M/20.4M [00:00&lt;00:00, 23.5MB/s]",
            "_view_count": null,
            "_view_module_version": "1.5.0",
            "description_tooltip": null,
            "_model_module": "@jupyter-widgets/controls",
            "layout": "IPY_MODEL_5a909631132d48999ca1ee4bb0a1fe84"
          }
        },
        "7f4ff2746c044657bfa03ebc32639257": {
          "model_module": "@jupyter-widgets/controls",
          "model_name": "DescriptionStyleModel",
          "model_module_version": "1.5.0",
          "state": {
            "_view_name": "StyleView",
            "_model_name": "DescriptionStyleModel",
            "description_width": "",
            "_view_module": "@jupyter-widgets/base",
            "_model_module_version": "1.5.0",
            "_view_count": null,
            "_view_module_version": "1.2.0",
            "_model_module": "@jupyter-widgets/controls"
          }
        },
        "9948c3cfeafa444aafdba1cfff850696": {
          "model_module": "@jupyter-widgets/base",
          "model_name": "LayoutModel",
          "model_module_version": "1.2.0",
          "state": {
            "_view_name": "LayoutView",
            "grid_template_rows": null,
            "right": null,
            "justify_content": null,
            "_view_module": "@jupyter-widgets/base",
            "overflow": null,
            "_model_module_version": "1.2.0",
            "_view_count": null,
            "flex_flow": null,
            "width": null,
            "min_width": null,
            "border": null,
            "align_items": null,
            "bottom": null,
            "_model_module": "@jupyter-widgets/base",
            "top": null,
            "grid_column": null,
            "overflow_y": null,
            "overflow_x": null,
            "grid_auto_flow": null,
            "grid_area": null,
            "grid_template_columns": null,
            "flex": null,
            "_model_name": "LayoutModel",
            "justify_items": null,
            "grid_row": null,
            "max_height": null,
            "align_content": null,
            "visibility": null,
            "align_self": null,
            "height": null,
            "min_height": null,
            "padding": null,
            "grid_auto_rows": null,
            "grid_gap": null,
            "max_width": null,
            "order": null,
            "_view_module_version": "1.2.0",
            "grid_template_areas": null,
            "object_position": null,
            "object_fit": null,
            "grid_auto_columns": null,
            "margin": null,
            "display": null,
            "left": null
          }
        },
        "26a7f53bea7846e88073269fbdd4bbad": {
          "model_module": "@jupyter-widgets/controls",
          "model_name": "ProgressStyleModel",
          "model_module_version": "1.5.0",
          "state": {
            "_view_name": "StyleView",
            "_model_name": "ProgressStyleModel",
            "description_width": "",
            "_view_module": "@jupyter-widgets/base",
            "_model_module_version": "1.5.0",
            "_view_count": null,
            "_view_module_version": "1.2.0",
            "bar_color": null,
            "_model_module": "@jupyter-widgets/controls"
          }
        },
        "1866fc10e9254803ba32af391fe1d986": {
          "model_module": "@jupyter-widgets/base",
          "model_name": "LayoutModel",
          "model_module_version": "1.2.0",
          "state": {
            "_view_name": "LayoutView",
            "grid_template_rows": null,
            "right": null,
            "justify_content": null,
            "_view_module": "@jupyter-widgets/base",
            "overflow": null,
            "_model_module_version": "1.2.0",
            "_view_count": null,
            "flex_flow": null,
            "width": null,
            "min_width": null,
            "border": null,
            "align_items": null,
            "bottom": null,
            "_model_module": "@jupyter-widgets/base",
            "top": null,
            "grid_column": null,
            "overflow_y": null,
            "overflow_x": null,
            "grid_auto_flow": null,
            "grid_area": null,
            "grid_template_columns": null,
            "flex": null,
            "_model_name": "LayoutModel",
            "justify_items": null,
            "grid_row": null,
            "max_height": null,
            "align_content": null,
            "visibility": null,
            "align_self": null,
            "height": null,
            "min_height": null,
            "padding": null,
            "grid_auto_rows": null,
            "grid_gap": null,
            "max_width": null,
            "order": null,
            "_view_module_version": "1.2.0",
            "grid_template_areas": null,
            "object_position": null,
            "object_fit": null,
            "grid_auto_columns": null,
            "margin": null,
            "display": null,
            "left": null
          }
        },
        "37f7562e8fdd4cc08d158660c8f1bc12": {
          "model_module": "@jupyter-widgets/controls",
          "model_name": "DescriptionStyleModel",
          "model_module_version": "1.5.0",
          "state": {
            "_view_name": "StyleView",
            "_model_name": "DescriptionStyleModel",
            "description_width": "",
            "_view_module": "@jupyter-widgets/base",
            "_model_module_version": "1.5.0",
            "_view_count": null,
            "_view_module_version": "1.2.0",
            "_model_module": "@jupyter-widgets/controls"
          }
        },
        "5a909631132d48999ca1ee4bb0a1fe84": {
          "model_module": "@jupyter-widgets/base",
          "model_name": "LayoutModel",
          "model_module_version": "1.2.0",
          "state": {
            "_view_name": "LayoutView",
            "grid_template_rows": null,
            "right": null,
            "justify_content": null,
            "_view_module": "@jupyter-widgets/base",
            "overflow": null,
            "_model_module_version": "1.2.0",
            "_view_count": null,
            "flex_flow": null,
            "width": null,
            "min_width": null,
            "border": null,
            "align_items": null,
            "bottom": null,
            "_model_module": "@jupyter-widgets/base",
            "top": null,
            "grid_column": null,
            "overflow_y": null,
            "overflow_x": null,
            "grid_auto_flow": null,
            "grid_area": null,
            "grid_template_columns": null,
            "flex": null,
            "_model_name": "LayoutModel",
            "justify_items": null,
            "grid_row": null,
            "max_height": null,
            "align_content": null,
            "visibility": null,
            "align_self": null,
            "height": null,
            "min_height": null,
            "padding": null,
            "grid_auto_rows": null,
            "grid_gap": null,
            "max_width": null,
            "order": null,
            "_view_module_version": "1.2.0",
            "grid_template_areas": null,
            "object_position": null,
            "object_fit": null,
            "grid_auto_columns": null,
            "margin": null,
            "display": null,
            "left": null
          }
        }
      }
    }
  },
  "cells": [
    {
      "cell_type": "markdown",
      "metadata": {
        "id": "sa4oUm8kB7nB"
      },
      "source": [
        "## CIFAR100\n",
        "CIFAR100 torch dataset classification using EfficientNet-b0 Transfer Learning (?)"
      ]
    },
    {
      "cell_type": "code",
      "metadata": {
        "id": "C1qzPT4cB68a"
      },
      "source": [
        "import numpy as np\n",
        "\n",
        "import seaborn as sns\n",
        "from matplotlib import pyplot as plt\n",
        "\n",
        "from sklearn.model_selection import train_test_split\n",
        "\n",
        "import torch\n",
        "from torch import nn\n",
        "from torch.nn import functional as F\n",
        "\n",
        "from torch.utils.data import TensorDataset, DataLoader"
      ],
      "execution_count": null,
      "outputs": []
    },
    {
      "cell_type": "code",
      "metadata": {
        "colab": {
          "base_uri": "https://localhost:8080/"
        },
        "id": "nLJIJWTgCtB0",
        "outputId": "0b979940-e92f-480f-fb25-c787c080dfcc"
      },
      "source": [
        "from torchvision import transforms as tfs\n",
        "from torchvision.datasets import CIFAR100\n",
        "\n",
        "data_tfs = tfs.Compose([\n",
        "    tfs.Resize(224),\n",
        "    tfs.ToTensor(),\n",
        "    tfs.Normalize((0.485, 0.456, 0.406), (0.229, 0.224, 0.225)),\n",
        "    \n",
        "])\n",
        "\n",
        "# install for train and test\n",
        "root = './'\n",
        "train_val_dataset = CIFAR100(root, train=True,  transform=data_tfs, download=True)\n",
        "test_dataset  = CIFAR100(root, train=False, transform=data_tfs, download=True)\n"
      ],
      "execution_count": null,
      "outputs": [
        {
          "output_type": "stream",
          "name": "stdout",
          "text": [
            "Files already downloaded and verified\n",
            "Files already downloaded and verified\n"
          ]
        }
      ]
    },
    {
      "cell_type": "markdown",
      "metadata": {
        "id": "c_aY_H58pxPf"
      },
      "source": [
        "Create train, valid, test dataloaders"
      ]
    },
    {
      "cell_type": "code",
      "metadata": {
        "id": "aV2sHby5ZIjt"
      },
      "source": [
        "from torch.utils.data import Subset\n",
        "train_idx, val_idx = train_test_split(list(range(len(train_val_dataset))), test_size=0.2)\n",
        "train_dataset = Subset(train_val_dataset, train_idx)\n",
        "valid_dataset = Subset(train_val_dataset, val_idx)"
      ],
      "execution_count": null,
      "outputs": []
    },
    {
      "cell_type": "code",
      "metadata": {
        "id": "BzjU7DGpDXyc"
      },
      "source": [
        "train_dataloader = DataLoader(train_dataset, batch_size=100, shuffle=True)\n",
        "test_dataloader = DataLoader(test_dataset, batch_size=100, shuffle=True)\n",
        "valid_dataloader = DataLoader(valid_dataset, batch_size=100, shuffle=True)"
      ],
      "execution_count": null,
      "outputs": []
    },
    {
      "cell_type": "markdown",
      "metadata": {
        "id": "uapvDeqLp6f2"
      },
      "source": [
        "Sizes of sets"
      ]
    },
    {
      "cell_type": "code",
      "metadata": {
        "colab": {
          "base_uri": "https://localhost:8080/"
        },
        "id": "xqs-K3AmOMkq",
        "outputId": "5bf16f0f-70e7-4e3a-afee-03b18daf871e"
      },
      "source": [
        "len(train_dataset),len(test_dataset), len(valid_dataset)"
      ],
      "execution_count": null,
      "outputs": [
        {
          "output_type": "execute_result",
          "data": {
            "text/plain": [
              "(40000, 10000, 10000)"
            ]
          },
          "metadata": {},
          "execution_count": 131
        }
      ]
    },
    {
      "cell_type": "markdown",
      "metadata": {
        "id": "U3AlRjr8Tfwf"
      },
      "source": [
        "## EfficientNet-b0"
      ]
    },
    {
      "cell_type": "code",
      "metadata": {
        "colab": {
          "base_uri": "https://localhost:8080/"
        },
        "id": "dfn3iDFOEjBQ",
        "outputId": "06b5d5f0-b588-4bf5-ce43-489c9d7a024b"
      },
      "source": [
        "!pip install -U efficientnet_pytorch"
      ],
      "execution_count": null,
      "outputs": [
        {
          "output_type": "stream",
          "name": "stdout",
          "text": [
            "Collecting efficientnet_pytorch\n",
            "  Downloading efficientnet_pytorch-0.7.1.tar.gz (21 kB)\n",
            "Requirement already satisfied: torch in /usr/local/lib/python3.7/dist-packages (from efficientnet_pytorch) (1.10.0+cu111)\n",
            "Requirement already satisfied: typing-extensions in /usr/local/lib/python3.7/dist-packages (from torch->efficientnet_pytorch) (3.10.0.2)\n",
            "Building wheels for collected packages: efficientnet-pytorch\n",
            "  Building wheel for efficientnet-pytorch (setup.py) ... \u001b[?25l\u001b[?25hdone\n",
            "  Created wheel for efficientnet-pytorch: filename=efficientnet_pytorch-0.7.1-py3-none-any.whl size=16446 sha256=b640ce77fa4d34ea0b3ef40e39080596a2946863d42d0415dadd91167a2a6cbd\n",
            "  Stored in directory: /root/.cache/pip/wheels/0e/cc/b2/49e74588263573ff778da58cc99b9c6349b496636a7e165be6\n",
            "Successfully built efficientnet-pytorch\n",
            "Installing collected packages: efficientnet-pytorch\n",
            "Successfully installed efficientnet-pytorch-0.7.1\n"
          ]
        }
      ]
    },
    {
      "cell_type": "code",
      "metadata": {
        "colab": {
          "base_uri": "https://localhost:8080/",
          "height": 105,
          "referenced_widgets": [
            "d0a4511fde95465196102d0d866297c0",
            "ab9630fdaef34f0286455d6f28086264",
            "db74c7884483414bb3da9a65a5246b0f",
            "7f5b53f02db04974a6ef745b0485d769",
            "c60a0a0c998c42e38fa60b8f9da33381",
            "7f4ff2746c044657bfa03ebc32639257",
            "9948c3cfeafa444aafdba1cfff850696",
            "26a7f53bea7846e88073269fbdd4bbad",
            "1866fc10e9254803ba32af391fe1d986",
            "37f7562e8fdd4cc08d158660c8f1bc12",
            "5a909631132d48999ca1ee4bb0a1fe84"
          ]
        },
        "id": "E5sbDPxkVEl-",
        "outputId": "44a7681c-ba4c-4e4c-fabe-e3cac2ad0cdf"
      },
      "source": [
        "from efficientnet_pytorch import EfficientNet\n",
        "model = EfficientNet.from_pretrained('efficientnet-b0')"
      ],
      "execution_count": null,
      "outputs": [
        {
          "output_type": "stream",
          "name": "stderr",
          "text": [
            "Downloading: \"https://github.com/lukemelas/EfficientNet-PyTorch/releases/download/1.0/efficientnet-b0-355c32eb.pth\" to /root/.cache/torch/hub/checkpoints/efficientnet-b0-355c32eb.pth\n"
          ]
        },
        {
          "output_type": "display_data",
          "data": {
            "application/vnd.jupyter.widget-view+json": {
              "model_id": "d0a4511fde95465196102d0d866297c0",
              "version_minor": 0,
              "version_major": 2
            },
            "text/plain": [
              "  0%|          | 0.00/20.4M [00:00<?, ?B/s]"
            ]
          },
          "metadata": {}
        },
        {
          "output_type": "stream",
          "name": "stdout",
          "text": [
            "Loaded pretrained weights for efficientnet-b0\n"
          ]
        }
      ]
    },
    {
      "cell_type": "code",
      "metadata": {
        "id": "nRBPSd07akDx"
      },
      "source": [
        "# Freeze weights\n",
        "for param in model.parameters():\n",
        "    param.requires_grad = False\n",
        "in_features = model._fc.in_features\n",
        "\n",
        "\n",
        "# Defining Dense top layers after the convolutional layers\n"
      ],
      "execution_count": null,
      "outputs": []
    },
    {
      "cell_type": "code",
      "metadata": {
        "id": "LqLIBnlpakPT"
      },
      "source": [
        "model._fc = nn.Sequential(\n",
        "    nn.BatchNorm1d(num_features=in_features),    \n",
        "    nn.Linear(in_features, 512),\n",
        "    nn.ReLU(),\n",
        "    nn.BatchNorm1d(512),\n",
        "    nn.Linear(512, 100),\n",
        "    )\n",
        "if torch.cuda.is_available():\n",
        "    model = model.cuda()"
      ],
      "execution_count": null,
      "outputs": []
    },
    {
      "cell_type": "code",
      "metadata": {
        "id": "PjVwAYMcHlQv",
        "colab": {
          "base_uri": "https://localhost:8080/"
        },
        "outputId": "cb1a2f47-806b-4ed5-b15d-c5c1b073f5b0"
      },
      "source": [
        "use_cuda = torch.cuda.is_available()\n",
        "use_cuda"
      ],
      "execution_count": null,
      "outputs": [
        {
          "output_type": "execute_result",
          "data": {
            "text/plain": [
              "True"
            ]
          },
          "metadata": {},
          "execution_count": 138
        }
      ]
    },
    {
      "cell_type": "code",
      "metadata": {
        "id": "x0vRg7xbbnLt"
      },
      "source": [
        "print(model)"
      ],
      "execution_count": null,
      "outputs": []
    },
    {
      "cell_type": "markdown",
      "metadata": {
        "id": "q8m0JJl5qDPu"
      },
      "source": [
        "Model Training"
      ]
    },
    {
      "cell_type": "code",
      "metadata": {
        "id": "xALlC4v-cNU_"
      },
      "source": [
        "# selecting loss function\n",
        "criterion = nn.CrossEntropyLoss()\n",
        "\n",
        "#using Adam classifier\n",
        "optimizer = torch.optim.Adam(model.parameters(), lr=1e-4)"
      ],
      "execution_count": null,
      "outputs": []
    },
    {
      "cell_type": "code",
      "metadata": {
        "id": "dALSA9RPlJQN"
      },
      "source": [
        "train_dataset_size = len(train_dataset)\n",
        "valid_dataset_size = len(valid_dataset)\n",
        "loaders={\n",
        "      'train':train_dataloader,\n",
        "      'valid':valid_dataloader\n",
        "  }\n"
      ],
      "execution_count": null,
      "outputs": []
    },
    {
      "cell_type": "code",
      "metadata": {
        "id": "rAk3_B-wcZKe"
      },
      "source": [
        "def train(model, optimizer, loaders, train_dataset_size, valid_dataset_size, save_path = \"model.pt\", n_epochs=5):\n",
        "\n",
        "  # initialize tracker for minimum validation loss\n",
        "  valid_loss_min = np.inf \n",
        "  trainingloss = []\n",
        "  validationloss = []\n",
        "  accuracy = {\"train\":[], \"valid\":[]}\n",
        "\n",
        "  for epoch in range(n_epochs):\n",
        "      # initialize the variables to monitor training and validation loss\n",
        "      train_loss = 0.0\n",
        "      valid_loss = 0.0\n",
        "      epoch_correct = 0\n",
        "      epoch_all = 0\n",
        "      print(\"Epoch:\", epoch)\n",
        "      \n",
        "      for batch_idx, (data, target) in enumerate(loaders['train']):\n",
        "\n",
        "          # move to GPU\n",
        "          if use_cuda:\n",
        "              data, target = data.cuda(), target.cuda()\n",
        "        \n",
        "          optimizer.zero_grad()\n",
        "          output = model(data)\n",
        "          loss = criterion(output, target)\n",
        "          loss.backward()\n",
        "          optimizer.step()\n",
        "          \n",
        "          train_loss = train_loss + ((1 / (batch_idx + 1)) * (loss.data - train_loss))\n",
        "\n",
        "          preds = output.argmax(-1)\n",
        "          correct = preds.eq(target.to(device)).sum()\n",
        "          all = target.size(0)\n",
        "          epoch_correct += correct.item()\n",
        "          epoch_all += all\n",
        "\n",
        "      print(f\"Loader: train. Accuracy: {epoch_correct/epoch_all}\")\n",
        "      accuracy[\"train\"].append(epoch_correct/epoch_all)\n",
        "\n",
        "\n",
        "      epoch_correct = 0\n",
        "      epoch_all = 0\n",
        "\n",
        "      model.eval()\n",
        "      for batch_idx, (data, target) in enumerate(loaders['valid']):\n",
        "          if use_cuda:\n",
        "              data, target = data.cuda(), target.cuda()\n",
        "          output = model(data)\n",
        "          loss = criterion(output, target)\n",
        "          valid_loss = valid_loss + ((1 / (batch_idx + 1)) * (loss.data - valid_loss))\n",
        "          preds = output.argmax(-1)\n",
        "          correct = preds.eq(target.to(device)).sum()\n",
        "          all = target.size(0)\n",
        "          epoch_correct += correct.item()\n",
        "          epoch_all += all\n",
        "      \n",
        "      \n",
        "      print(f\"Loader: valid. Accuracy: {epoch_correct/epoch_all}\")\n",
        "      accuracy[\"valid\"].append(epoch_correct/epoch_all)\n",
        "\n",
        "      train_loss = train_loss/train_dataset_size\n",
        "      valid_loss = valid_loss/valid_dataset_size\n",
        "\n",
        "      trainingloss.append(train_loss)\n",
        "      validationloss.append(valid_loss)\n",
        "\n",
        "      # printing training/validation statistics \n",
        "      print('Epoch: {} \\tTraining Loss: {:.6f} \\tValidation Loss: {:.6f}'.format(\n",
        "          epoch, \n",
        "          train_loss,\n",
        "          valid_loss\n",
        "          ))\n",
        "      \n",
        "      ## saving the model if validation loss has decreased\n",
        "      if valid_loss < valid_loss_min:\n",
        "          torch.save(model.state_dict(), save_path)\n",
        "          \n",
        "          valid_loss_min = valid_loss\n",
        "  return [model, accuracy,trainingloss, validationloss]\n",
        "       \n",
        "\n",
        "   "
      ],
      "execution_count": null,
      "outputs": []
    },
    {
      "cell_type": "markdown",
      "metadata": {
        "id": "ph5pUoApqlkS"
      },
      "source": [
        "1-5 epochs"
      ]
    },
    {
      "cell_type": "code",
      "metadata": {
        "id": "TXRcnVFkVqbt",
        "colab": {
          "base_uri": "https://localhost:8080/"
        },
        "outputId": "66e7407d-0d4f-4111-9f88-de88d36df67c"
      },
      "source": [
        "history = train(model, optimizer, loaders, train_dataset_size, valid_dataset_size, \"model.pt\", 5)"
      ],
      "execution_count": null,
      "outputs": [
        {
          "output_type": "stream",
          "name": "stdout",
          "text": [
            "Epoch: 0\n",
            "Loader: train. Accuracy: 0.343625\n",
            "Loader: valid. Accuracy: 0.5113\n",
            "Epoch: 0 \tTraining Loss: 0.000077 \tValidation Loss: 0.000215\n",
            "Epoch: 1\n",
            "Loader: train. Accuracy: 0.596575\n",
            "Loader: valid. Accuracy: 0.617\n",
            "Epoch: 1 \tTraining Loss: 0.000039 \tValidation Loss: 0.000139\n",
            "Epoch: 2\n",
            "Loader: train. Accuracy: 0.674375\n",
            "Loader: valid. Accuracy: 0.6356\n",
            "Epoch: 2 \tTraining Loss: 0.000029 \tValidation Loss: 0.000130\n",
            "Epoch: 3\n",
            "Loader: train. Accuracy: 0.723975\n",
            "Loader: valid. Accuracy: 0.6454\n",
            "Epoch: 3 \tTraining Loss: 0.000025 \tValidation Loss: 0.000125\n",
            "Epoch: 4\n",
            "Loader: train. Accuracy: 0.764075\n",
            "Loader: valid. Accuracy: 0.6539\n",
            "Epoch: 4 \tTraining Loss: 0.000021 \tValidation Loss: 0.000123\n"
          ]
        }
      ]
    },
    {
      "cell_type": "code",
      "metadata": {
        "id": "XoStBCfUV3Td"
      },
      "source": [
        "model, accuracy, train_loss, valid_loss = history"
      ],
      "execution_count": null,
      "outputs": []
    },
    {
      "cell_type": "markdown",
      "metadata": {
        "id": "vH4mO9CRqor_"
      },
      "source": [
        "6-10 epochs"
      ]
    },
    {
      "cell_type": "code",
      "metadata": {
        "colab": {
          "base_uri": "https://localhost:8080/"
        },
        "id": "MBjoo2PM1TzM",
        "outputId": "bc5b543d-5ae4-475f-f853-d571e7e377b5"
      },
      "source": [
        "history2 = train(model, optimizer, loaders, train_dataset_size, valid_dataset_size, \"model.pt\", 5)"
      ],
      "execution_count": null,
      "outputs": [
        {
          "output_type": "stream",
          "name": "stdout",
          "text": [
            "Epoch: 0\n",
            "Loader: train. Accuracy: 0.80035\n",
            "Loader: valid. Accuracy: 0.6551\n",
            "Epoch: 0 \tTraining Loss: 0.000019 \tValidation Loss: 0.000122\n",
            "Epoch: 1\n",
            "Loader: train. Accuracy: 0.831375\n",
            "Loader: valid. Accuracy: 0.6552\n",
            "Epoch: 1 \tTraining Loss: 0.000016 \tValidation Loss: 0.000123\n",
            "Epoch: 2\n",
            "Loader: train. Accuracy: 0.8586\n",
            "Loader: valid. Accuracy: 0.6547\n",
            "Epoch: 2 \tTraining Loss: 0.000014 \tValidation Loss: 0.000124\n",
            "Epoch: 3\n",
            "Loader: train. Accuracy: 0.884225\n",
            "Loader: valid. Accuracy: 0.6572\n",
            "Epoch: 3 \tTraining Loss: 0.000012 \tValidation Loss: 0.000125\n",
            "Epoch: 4\n",
            "Loader: train. Accuracy: 0.907\n",
            "Loader: valid. Accuracy: 0.6547\n",
            "Epoch: 4 \tTraining Loss: 0.000010 \tValidation Loss: 0.000127\n"
          ]
        }
      ]
    },
    {
      "cell_type": "markdown",
      "metadata": {
        "id": "YL_6XVN_rsMu"
      },
      "source": [
        "Trying to increase the accurasy by decreasing learning rate "
      ]
    },
    {
      "cell_type": "code",
      "metadata": {
        "id": "VXV7JZIMu-nY"
      },
      "source": [
        "optimizer = torch.optim.Adam(model.parameters(), lr=2e-5)"
      ],
      "execution_count": null,
      "outputs": []
    },
    {
      "cell_type": "markdown",
      "metadata": {
        "id": "jvC5GUqWqrEH"
      },
      "source": [
        "11-15 epochs"
      ]
    },
    {
      "cell_type": "code",
      "metadata": {
        "colab": {
          "base_uri": "https://localhost:8080/"
        },
        "id": "e4mgF86WwGuZ",
        "outputId": "3f48d39b-cf23-4312-efa5-e8c4a12a72ff"
      },
      "source": [
        "history3 = train(model, optimizer, loaders, train_dataset_size, valid_dataset_size, \"model.pt\", 5)"
      ],
      "execution_count": null,
      "outputs": [
        {
          "output_type": "stream",
          "name": "stdout",
          "text": [
            "Epoch: 0\n",
            "Loader: train. Accuracy: 0.942975\n",
            "Loader: valid. Accuracy: 0.6592\n",
            "Epoch: 0 \tTraining Loss: 0.000008 \tValidation Loss: 0.000126\n",
            "Epoch: 1\n",
            "Loader: train. Accuracy: 0.948525\n",
            "Loader: valid. Accuracy: 0.6588\n",
            "Epoch: 1 \tTraining Loss: 0.000008 \tValidation Loss: 0.000127\n",
            "Epoch: 2\n",
            "Loader: train. Accuracy: 0.9525\n",
            "Loader: valid. Accuracy: 0.6588\n",
            "Epoch: 2 \tTraining Loss: 0.000007 \tValidation Loss: 0.000127\n",
            "Epoch: 3\n",
            "Loader: train. Accuracy: 0.95695\n",
            "Loader: valid. Accuracy: 0.6587\n",
            "Epoch: 3 \tTraining Loss: 0.000007 \tValidation Loss: 0.000128\n",
            "Epoch: 4\n",
            "Loader: train. Accuracy: 0.95995\n",
            "Loader: valid. Accuracy: 0.6577\n",
            "Epoch: 4 \tTraining Loss: 0.000007 \tValidation Loss: 0.000129\n"
          ]
        }
      ]
    },
    {
      "cell_type": "markdown",
      "metadata": {
        "id": "_EUZDCYXqt3U"
      },
      "source": [
        "## Loss and Accuracy Visualization"
      ]
    },
    {
      "cell_type": "code",
      "metadata": {
        "id": "q8dbvRQ6wKnV"
      },
      "source": [
        "model, accuracy2, train_loss2, valid_loss2 = history2\n",
        "model, accuracy3, train_loss3, valid_loss3 = history3\n",
        "\n",
        "valid_loss += valid_loss2\n",
        "valid_loss += valid_loss3\n",
        "train_loss += train_loss2\n",
        "train_loss += train_loss3\n",
        "for key in accuracy.keys():\n",
        "  accuracy[key] += accuracy2[key]\n",
        "  accuracy[key] += accuracy3[key]"
      ],
      "execution_count": null,
      "outputs": []
    },
    {
      "cell_type": "code",
      "metadata": {
        "colab": {
          "base_uri": "https://localhost:8080/",
          "height": 641
        },
        "id": "9Ef-0iBy0-T8",
        "outputId": "d5b1708c-e412-4213-a3da-6237297023ba"
      },
      "source": [
        "import seaborn as sns\n",
        "sns.set(style=\"darkgrid\", font_scale=1.4)\n",
        "\n",
        "plt.figure(figsize=(16, 10))\n",
        "plt.title(\"Valid loss\")\n",
        "plt.plot(valid_loss, label=\"valid\", linewidth=2)\n",
        "plt.plot(train_loss, label=\"train\", linewidth=2)\n",
        "\n",
        "plt.legend()\n",
        "plt.xlabel(\"Epoch\")\n",
        "plt.show()"
      ],
      "execution_count": null,
      "outputs": [
        {
          "output_type": "display_data",
          "data": {
            "image/png": "[encoded data removed]",
            "text/plain": [
              "<Figure size 1152x720 with 1 Axes>"
            ]
          },
          "metadata": {}
        }
      ]
    },
    {
      "cell_type": "code",
      "metadata": {
        "colab": {
          "base_uri": "https://localhost:8080/",
          "height": 641
        },
        "id": "espMSXq6km9L",
        "outputId": "a3cb6165-a03c-4215-8925-4f59586b55f1"
      },
      "source": [
        "import seaborn as sns\n",
        "sns.set(style=\"darkgrid\", font_scale=1.4)\n",
        "\n",
        "plt.figure(figsize=(16, 10))\n",
        "plt.title(\"Valid accuracy\")\n",
        "plt.plot( accuracy[\"valid\"], label=\"valid acc\", linewidth=2)\n",
        "plt.plot( accuracy[\"train\"], label=\"train acc\", linewidth=2)\n",
        "\n",
        "plt.legend()\n",
        "plt.xlabel(\"Epoch\")\n",
        "plt.show()"
      ],
      "execution_count": null,
      "outputs": [
        {
          "output_type": "display_data",
          "data": {
            "image/png": "[encoded data removed]",
            "text/plain": [
              "<Figure size 1152x720 with 1 Axes>"
            ]
          },
          "metadata": {}
        }
      ]
    },
    {
      "cell_type": "markdown",
      "metadata": {
        "id": "hcZlhcPQHdVO"
      },
      "source": [
        "![whatsapp-image-2021-02-26-at-3.09.26-pm-768x1024.jpeg](data:image/jpeg;base64,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)"
      ]
    },
    {
      "cell_type": "markdown",
      "metadata": {
        "id": "bEs_rUBQq4HB"
      },
      "source": [
        "## Model Prediction"
      ]
    },
    {
      "cell_type": "code",
      "metadata": {
        "id": "_6n6u0N_1-tt"
      },
      "source": [
        "def predict(model, test_loader):\n",
        "    with torch.no_grad():\n",
        "        logits = []\n",
        "        targets = []\n",
        "        for inputs, target in test_loader:\n",
        "            inputs = inputs.cuda()\n",
        "            model.eval()\n",
        "            outputs = model(inputs).cpu()\n",
        "            logits.append(outputs)\n",
        "            targets += target.data\n",
        "            \n",
        "    probs = nn.functional.softmax(torch.cat(logits), dim=-1).numpy()\n",
        "    return probs, targets"
      ],
      "execution_count": null,
      "outputs": []
    },
    {
      "cell_type": "code",
      "metadata": {
        "id": "O5rFnD7QUJ8X"
      },
      "source": [
        "probs, targets = predict(model, test_dataloader)\n",
        "\n",
        "preds = np.argmax(probs, axis=1)\n"
      ],
      "execution_count": null,
      "outputs": []
    },
    {
      "cell_type": "code",
      "metadata": {
        "id": "fAODSPD8UX9a",
        "colab": {
          "base_uri": "https://localhost:8080/"
        },
        "outputId": "b63a9140-d9d0-460b-fcd0-ea88c4714d27"
      },
      "source": [
        "preds, targets[0].data"
      ],
      "execution_count": null,
      "outputs": [
        {
          "output_type": "execute_result",
          "data": {
            "text/plain": [
              "(array([99, 94, 37, ..., 81, 74, 14]), tensor(99))"
            ]
          },
          "metadata": {},
          "execution_count": 192
        }
      ]
    },
    {
      "cell_type": "markdown",
      "metadata": {
        "id": "Vr9WDLU9q8bB"
      },
      "source": [
        "Test Dataset Accuracy"
      ]
    },
    {
      "cell_type": "code",
      "metadata": {
        "id": "INR3oViEUOcU",
        "colab": {
          "base_uri": "https://localhost:8080/"
        },
        "outputId": "3b089e18-4b0d-4741-852d-1b64ff7cca3a"
      },
      "source": [
        "sum(preds==targets)/len(test_dataset)"
      ],
      "execution_count": null,
      "outputs": [
        {
          "output_type": "execute_result",
          "data": {
            "text/plain": [
              "0.6547"
            ]
          },
          "metadata": {},
          "execution_count": 194
        }
      ]
    },
    {
      "cell_type": "markdown",
      "metadata": {
        "id": "wlppoMLvrBPa"
      },
      "source": [
        "![c9e6997d15fb1199d5b826160561b17f.jpg](data:image/jpeg;base64,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)"
      ]
    }
  ]
}